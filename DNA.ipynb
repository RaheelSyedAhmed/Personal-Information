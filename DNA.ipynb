{
 "metadata": {
  "language_info": {
   "codemirror_mode": {
    "name": "ipython",
    "version": 3
   },
   "file_extension": ".py",
   "mimetype": "text/x-python",
   "name": "python",
   "nbconvert_exporter": "python",
   "pygments_lexer": "ipython3",
   "version": 3
  },
  "orig_nbformat": 4
 },
 "nbformat": 4,
 "nbformat_minor": 2,
 "cells": [
  {
   "source": [
    "Counting DNA Nucleotides\n",
    "\n",
    "The objective of this Stronghold problem is to take a string of nucleotides and return the number of occurrences of each nucleotide in the string.\n",
    "\n",
    "Input: String representing a DNA sequence of nucleotides  \n",
    "Output: 4 integers representing the number of A, C, G, and T nucleotides, respectively"
   ],
   "cell_type": "markdown",
   "metadata": {}
  },
  {
   "source": [
    "To begin, we can simply read the file and use the read() function to retrieve data from the entire file."
   ],
   "cell_type": "markdown",
   "metadata": {}
  },
  {
   "cell_type": "code",
   "execution_count": null,
   "metadata": {},
   "outputs": [],
   "source": [
    "with open(\"text_files/rosalind_dna.txt\", \"r\") as f:\n",
    "    data = f.read()"
   ]
  },
  {
   "source": [
    "The sample input provided is as follows:"
   ],
   "cell_type": "markdown",
   "metadata": {}
  },
  {
   "cell_type": "code",
   "execution_count": null,
   "metadata": {},
   "outputs": [],
   "source": [
    "data = \"AGCTTTTCATTCTGACTGCAACGGGCAATATGTCTCTGTGTGGATTAAAAAAAGAGTGTCTGATAGCAGC\""
   ]
  },
  {
   "source": [
    "Now, to show the output, we will print out each individual nucleotide count using the count() method for strings."
   ],
   "cell_type": "markdown",
   "metadata": {}
  },
  {
   "cell_type": "code",
   "execution_count": null,
   "metadata": {},
   "outputs": [],
   "source": [
    "print(data.count(\"A\"), data.count(\"C\"), data.count(\"G\"), data.count(\"T\"))\n"
   ]
  }
 ]
}